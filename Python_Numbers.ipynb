{
 "cells": [
  {
   "cell_type": "code",
   "execution_count": 2,
   "id": "da5023cb",
   "metadata": {},
   "outputs": [
    {
     "name": "stdout",
     "output_type": "stream",
     "text": [
      "x:  10\n",
      "Type of x:  <class 'int'>\n",
      "y:  7.344\n",
      "Type of y:  <class 'float'>\n",
      "z:  3j\n",
      "Type of z:  <class 'complex'>\n"
     ]
    }
   ],
   "source": [
    "x = 10 # Integer\n",
    "y = 7.344 # Float\n",
    "z = 3j # Complex number\n",
    "\n",
    "print(\"x: \", x)\n",
    "print(\"Type of x: \", type(x))\n",
    "\n",
    "print(\"y: \", y)\n",
    "print(\"Type of y: \", type(y))\n",
    "\n",
    "print(\"z: \", z)\n",
    "print(\"Type of z: \", type(z))"
   ]
  },
  {
   "cell_type": "markdown",
   "id": "f0841317",
   "metadata": {},
   "source": [
    "# Interegrs"
   ]
  },
  {
   "cell_type": "code",
   "execution_count": 5,
   "id": "594cff50",
   "metadata": {},
   "outputs": [
    {
     "name": "stdout",
     "output_type": "stream",
     "text": [
      "x:  10\n",
      "Type of x:  <class 'int'> \n",
      "\n",
      "y:  234345456554332231\n",
      "Type of y:  <class 'int'> \n",
      "\n",
      "z:  -345\n",
      "Type of z:  <class 'int'>\n"
     ]
    }
   ],
   "source": [
    "x = 10\n",
    "y = 234345456554332231\n",
    "z = -345\n",
    "\n",
    "print(\"x: \", x)\n",
    "print(\"Type of x: \", type(x), \"\\n\")\n",
    "\n",
    "print(\"y: \", y)\n",
    "print(\"Type of y: \", type(y), \"\\n\")\n",
    "\n",
    "print(\"z: \", z)\n",
    "print(\"Type of z: \", type(z))"
   ]
  },
  {
   "cell_type": "markdown",
   "id": "8fceeba3",
   "metadata": {},
   "source": [
    "# Float"
   ]
  },
  {
   "cell_type": "code",
   "execution_count": 4,
   "id": "749b0720",
   "metadata": {},
   "outputs": [
    {
     "name": "stdout",
     "output_type": "stream",
     "text": [
      "x:  23.43\n",
      "Type of x:  <class 'float'> \n",
      "\n",
      "y:  2.3434545655433222e+17\n",
      "Type of y:  <class 'float'> \n",
      "\n",
      "z:  -345.234\n",
      "Type of z:  <class 'float'>\n"
     ]
    }
   ],
   "source": [
    "x = 23.43\n",
    "y = 234345456554332231.234\n",
    "z = -345.234\n",
    "\n",
    "print(\"x: \", x)\n",
    "print(\"Type of x: \", type(x), \"\\n\")\n",
    "\n",
    "print(\"y: \", y)\n",
    "print(\"Type of y: \", type(y), \"\\n\")\n",
    "\n",
    "print(\"z: \", z)\n",
    "print(\"Type of z: \", type(z))"
   ]
  },
  {
   "cell_type": "code",
   "execution_count": 7,
   "id": "b2b410fc",
   "metadata": {},
   "outputs": [
    {
     "name": "stdout",
     "output_type": "stream",
     "text": [
      "x:  35000.0\n",
      "Type of x:  <class 'float'> \n",
      "\n",
      "y:  120000.0\n",
      "Type of y:  <class 'float'> \n",
      "\n",
      "z:  -8.77e+101\n",
      "Type of z:  <class 'float'> \n",
      "\n"
     ]
    }
   ],
   "source": [
    "x = 35e3\n",
    "y = 12E4\n",
    "z = -87.7e100\n",
    "\n",
    "print(\"x: \", x)\n",
    "print(\"Type of x: \", type(x), \"\\n\")\n",
    "\n",
    "print(\"y: \", y)\n",
    "print(\"Type of y: \", type(y), \"\\n\")\n",
    "\n",
    "print(\"z: \", z)\n",
    "print(\"Type of z: \", type(z), \"\\n\")"
   ]
  },
  {
   "cell_type": "markdown",
   "id": "980fc788",
   "metadata": {},
   "source": [
    "# Complex"
   ]
  },
  {
   "cell_type": "code",
   "execution_count": 8,
   "id": "3e040fdd",
   "metadata": {},
   "outputs": [
    {
     "name": "stdout",
     "output_type": "stream",
     "text": [
      "x:  (3+5j)\n",
      "Type of x:  <class 'complex'> \n",
      "\n",
      "y:  5j\n",
      "Type of y:  <class 'complex'> \n",
      "\n",
      "z:  (-0-5j)\n",
      "Type of z:  <class 'complex'> \n",
      "\n"
     ]
    }
   ],
   "source": [
    "x = 3+5j\n",
    "y = 5j\n",
    "z = -5j\n",
    "\n",
    "print(\"x: \", x)\n",
    "print(\"Type of x: \", type(x), \"\\n\")\n",
    "\n",
    "print(\"y: \", y)\n",
    "print(\"Type of y: \", type(y), \"\\n\")\n",
    "\n",
    "print(\"z: \", z)\n",
    "print(\"Type of z: \", type(z), \"\\n\")"
   ]
  },
  {
   "cell_type": "markdown",
   "id": "de8716d7",
   "metadata": {},
   "source": [
    "# Converting one type to another\n",
    "### (Can't covert complex to another type)"
   ]
  },
  {
   "cell_type": "code",
   "execution_count": 10,
   "id": "f33f5f1d",
   "metadata": {},
   "outputs": [
    {
     "name": "stdout",
     "output_type": "stream",
     "text": [
      "a:  1.0\n",
      "Type of a:  <class 'float'> \n",
      "\n",
      "b:  2\n",
      "Type of b:  <class 'int'> \n",
      "\n",
      "c:  (1+0j)\n",
      "Type of c:  <class 'complex'> \n",
      "\n"
     ]
    }
   ],
   "source": [
    "x = 1\n",
    "y = 2.4\n",
    "z = 3+5j\n",
    "\n",
    "a = float(x)\n",
    "b = int(y)\n",
    "c = complex(x)\n",
    "\n",
    "print(\"a: \", a)\n",
    "print(\"Type of a: \", type(a), \"\\n\")\n",
    "\n",
    "print(\"b: \", b)\n",
    "print(\"Type of b: \", type(b), \"\\n\")\n",
    "\n",
    "print(\"c: \", c)\n",
    "print(\"Type of c: \", type(c), \"\\n\")"
   ]
  },
  {
   "cell_type": "markdown",
   "id": "688644f4",
   "metadata": {},
   "source": [
    "# Random module"
   ]
  },
  {
   "cell_type": "code",
   "execution_count": 103,
   "id": "b81e5376",
   "metadata": {},
   "outputs": [
    {
     "name": "stdout",
     "output_type": "stream",
     "text": [
      "3\n",
      "2\n",
      "0.2934167513119883\n",
      "6.227709343621317\n"
     ]
    }
   ],
   "source": [
    "import random\n",
    "\n",
    "print(random.randrange(1, 10)) # Generates a random integer between 1 and 9, inclusive\n",
    "print(random.randint(1, 10)) # Generates a random integer between 1 and 10, inclusive\n",
    "print(random.random()) # Generates a random float between 0.0 and 1.0\n",
    "print(random.uniform(1, 10)) # Generates a random float between 1.0 and 10.0"
   ]
  }
 ],
 "metadata": {
  "kernelspec": {
   "display_name": "Python 3",
   "language": "python",
   "name": "python3"
  },
  "language_info": {
   "codemirror_mode": {
    "name": "ipython",
    "version": 3
   },
   "file_extension": ".py",
   "mimetype": "text/x-python",
   "name": "python",
   "nbconvert_exporter": "python",
   "pygments_lexer": "ipython3",
   "version": "3.11.9"
  }
 },
 "nbformat": 4,
 "nbformat_minor": 5
}
