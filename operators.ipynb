{
 "cells": [
  {
   "cell_type": "markdown",
   "id": "a9274db8",
   "metadata": {},
   "source": [
    "# Arithmatic Operators"
   ]
  },
  {
   "cell_type": "code",
   "execution_count": 6,
   "id": "929a4350",
   "metadata": {},
   "outputs": [
    {
     "name": "stdout",
     "output_type": "stream",
     "text": [
      "a is 10 and b is 20 \n",
      "\n",
      "a + b = 30\n",
      "a - b = -10\n",
      "a * b = 200\n",
      "a / b = 0.5\n",
      "a // b = 0\n",
      "a % b = 10\n",
      "a ** b = 100000000000000000000\n"
     ]
    }
   ],
   "source": [
    "a = 10\n",
    "b = 20\n",
    "\n",
    "print(\"a is\", a, \"and b is\", b, \"\\n\")  # Print statement with variables\n",
    "\n",
    "print(\"a + b =\", a + b)  # Addition\n",
    "print(\"a - b =\", a - b)  # Subtraction\n",
    "print(\"a * b =\", a * b)  # Multiplication\n",
    "print(\"a / b =\", a / b)  # Division\n",
    "print(\"a // b =\", a // b)  # Floor Division\n",
    "print(\"a % b =\", a % b)  # Modulus\n",
    "print(\"a ** b =\", a ** b)  # Exponentiation"
   ]
  },
  {
   "cell_type": "markdown",
   "id": "0aeb99cb",
   "metadata": {},
   "source": [
    "# Assignment Operators"
   ]
  },
  {
   "cell_type": "code",
   "execution_count": null,
   "id": "e88973f7",
   "metadata": {},
   "outputs": [
    {
     "name": "stdout",
     "output_type": "stream",
     "text": [
      "x is 10 and y is 20 \n",
      "\n",
      "New x:  11\n",
      "New y:  19\n",
      "New x:  22\n",
      "New y:  9.5\n",
      "New x:  7\n",
      "New y:  0.5\n",
      "New x:  49\n",
      "New x:  51\n"
     ]
    }
   ],
   "source": [
    "x = 10\n",
    "y = 20\n",
    "\n",
    "print(\"x is\", x, \"and y is\", y, \"\\n\")  # Print statement with variables\n",
    "x+=1 # Increment x by 1\n",
    "print(\"New x: \", x)\n",
    "\n",
    "y-=1 # Decrement y by 1\n",
    "print(\"New y: \", y)\n",
    "\n",
    "x*=2 # Multiply x by 2\n",
    "print(\"New x: \", x)\n",
    "\n",
    "y/=2 # Divide y by 2\n",
    "print(\"New y: \", y)\n",
    "\n",
    "x//=3 # Floor divide x by 3\n",
    "print(\"New x: \", x)\n",
    "\n",
    "y%=3 # Modulus y by 3\n",
    "print(\"New y: \", y)\n",
    "\n",
    "x**=2 # Exponentiate x by 2\n",
    "print(\"New x: \", x)\n",
    "\n",
    "x|=2 # Bitwise OR x with 2\n",
    "print(\"New x: \", x)\n"
   ]
  },
  {
   "cell_type": "code",
   "execution_count": null,
   "id": "87f079a3",
   "metadata": {},
   "outputs": [
    {
     "name": "stdout",
     "output_type": "stream",
     "text": [
      "New y:  0\n",
      "New y:  3\n",
      "New x:  5\n",
      "New y:  6\n"
     ]
    }
   ],
   "source": [
    "x = 10\n",
    "y = 20\n",
    "\n",
    "y&=3 # Bitwise AND y with 3\n",
    "print(\"New y: \", y)\n",
    "\n",
    "y^=3 # Bitwise XOR y with 3\n",
    "print(\"New y: \", y)\n",
    "\n",
    "x>>=1 # Right shift x by 1\n",
    "print(\"New x: \", x)\n",
    "\n",
    "y<<=1 # Left shift y by 1\n",
    "print(\"New y: \", y)"
   ]
  },
  {
   "cell_type": "code",
   "execution_count": 21,
   "id": "9296f5b0",
   "metadata": {},
   "outputs": [
    {
     "name": "stdout",
     "output_type": "stream",
     "text": [
      "3\n",
      "4\n"
     ]
    }
   ],
   "source": [
    "print(x := 3) # This will print 3 and assign 3 to x # x = 3\n",
    "print(y := 4) # This will print 4 and assign 4 to y   # y = 4"
   ]
  },
  {
   "cell_type": "markdown",
   "id": "9ec4d5f4",
   "metadata": {},
   "source": [
    "# Comparison Operators"
   ]
  }
 ],
 "metadata": {
  "kernelspec": {
   "display_name": "Python 3",
   "language": "python",
   "name": "python3"
  },
  "language_info": {
   "codemirror_mode": {
    "name": "ipython",
    "version": 3
   },
   "file_extension": ".py",
   "mimetype": "text/x-python",
   "name": "python",
   "nbconvert_exporter": "python",
   "pygments_lexer": "ipython3",
   "version": "3.11.9"
  }
 },
 "nbformat": 4,
 "nbformat_minor": 5
}
