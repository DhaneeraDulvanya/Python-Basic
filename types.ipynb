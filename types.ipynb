{
 "cells": [
  {
   "cell_type": "code",
   "execution_count": 1,
   "id": "e5a61e12",
   "metadata": {},
   "outputs": [
    {
     "name": "stdout",
     "output_type": "stream",
     "text": [
      "<class 'int'>\n"
     ]
    }
   ],
   "source": [
    "x = 5\n",
    "print(type(x))"
   ]
  },
  {
   "cell_type": "code",
   "execution_count": 3,
   "id": "b1fd9cb5",
   "metadata": {},
   "outputs": [
    {
     "name": "stdout",
     "output_type": "stream",
     "text": [
      "a:  <class 'float'>\n",
      "b:  <class 'str'>\n",
      "c:  <class 'bool'>\n",
      "d:  <class 'list'>\n",
      "e:  <class 'dict'>\n",
      "f:  <class 'tuple'>\n",
      "g:  <class 'NoneType'>\n",
      "h:  <class 'complex'>\n"
     ]
    }
   ],
   "source": [
    "a = 10.4\n",
    "b = \"Hello, World!\"\n",
    "c = True\n",
    "d = ['a', 'b', 'c', 'd']\n",
    "e = {'name': 'Alice', 'age': 30}\n",
    "f = (1, 2, 3)\n",
    "g = None\n",
    "h = 1j\n",
    "\n",
    "print(\"a: \", type(a))\n",
    "print(\"b: \", type(b))\n",
    "print(\"c: \", type(c))\n",
    "print(\"d: \", type(d))\n",
    "print(\"e: \", type(e))\n",
    "print(\"f: \", type(f))\n",
    "print(\"g: \", type(g))\n",
    "print(\"h: \", type(h))"
   ]
  },
  {
   "cell_type": "code",
   "execution_count": 12,
   "id": "e6adec4f",
   "metadata": {},
   "outputs": [
    {
     "name": "stdout",
     "output_type": "stream",
     "text": [
      "x:  {'name': 'John', 'age': 36}\n",
      "Type of x:  <class 'dict'>\n"
     ]
    }
   ],
   "source": [
    "x = dict(name=\"John\", age=36)\n",
    "print(\"x: \", x)\n",
    "print(\"Type of x: \", type(x))"
   ]
  },
  {
   "cell_type": "code",
   "execution_count": 10,
   "id": "668dff54",
   "metadata": {},
   "outputs": [
    {
     "name": "stdout",
     "output_type": "stream",
     "text": [
      "x:  b'\\x00\\x00\\x00\\x00\\x00'\n",
      "Type of x:  <class 'bytes'>\n"
     ]
    }
   ],
   "source": [
    "x = bytes(5)\n",
    "print(\"x: \", x)\n",
    "print(\"Type of x: \", type(x))"
   ]
  },
  {
   "cell_type": "code",
   "execution_count": 11,
   "id": "ea88cfc0",
   "metadata": {},
   "outputs": [
    {
     "name": "stdout",
     "output_type": "stream",
     "text": [
      "x:  <memory at 0x000002495151CC40>\n",
      "Type of x:  <class 'memoryview'>\n"
     ]
    }
   ],
   "source": [
    "x = memoryview(bytes(5))\n",
    "print(\"x: \", x)\n",
    "print(\"Type of x: \", type(x))"
   ]
  },
  {
   "cell_type": "code",
   "execution_count": 13,
   "id": "c45cb3c9",
   "metadata": {},
   "outputs": [
    {
     "name": "stdout",
     "output_type": "stream",
     "text": [
      "x:  range(0, 6)\n",
      "Type of x:  <class 'range'>\n"
     ]
    }
   ],
   "source": [
    "x = range(6)\n",
    "print(\"x: \", x)\n",
    "print(\"Type of x: \", type(x))"
   ]
  }
 ],
 "metadata": {
  "kernelspec": {
   "display_name": "Python 3",
   "language": "python",
   "name": "python3"
  },
  "language_info": {
   "codemirror_mode": {
    "name": "ipython",
    "version": 3
   },
   "file_extension": ".py",
   "mimetype": "text/x-python",
   "name": "python",
   "nbconvert_exporter": "python",
   "pygments_lexer": "ipython3",
   "version": "3.11.9"
  }
 },
 "nbformat": 4,
 "nbformat_minor": 5
}
